{
 "cells": [
  {
   "cell_type": "code",
   "execution_count": 1,
   "metadata": {},
   "outputs": [
    {
     "name": "stderr",
     "output_type": "stream",
     "text": [
      "d:\\Anaconda\\envs\\bacteria\\lib\\site-packages\\tqdm\\auto.py:22: TqdmWarning: IProgress not found. Please update jupyter and ipywidgets. See https://ipywidgets.readthedocs.io/en/stable/user_install.html\n",
      "  from .autonotebook import tqdm as notebook_tqdm\n",
      "100%|██████████| 47/47 [00:10<00:00,  4.36it/s]"
     ]
    },
    {
     "name": "stdout",
     "output_type": "stream",
     "text": [
      "Testing: Acc_RCBAM: 0.8613, Acc_ResNet: 0.5193, Acc_ConvNext_V2: 0.4660, Acc: 0.6647\n"
     ]
    },
    {
     "name": "stderr",
     "output_type": "stream",
     "text": [
      "\n"
     ]
    }
   ],
   "source": [
    "#Inference_demo\n",
    "import argparse\n",
    "from Model import ResNet\n",
    "from Model import RCBAM\n",
    "from Model import ConvNext_V2\n",
    "from train import train_model\n",
    "from predict import infer\n",
    "\n",
    "parser = argparse.ArgumentParser()\n",
    "parser.add_argument('--epochs',type=int, default=100, help='number of epochs to train for')\n",
    "parser.add_argument('--batch_size', type=int,default=64, help='input batch size')\n",
    "parser.add_argument('--device', type=int, default=0, help='GPU ID')\n",
    "parser.add_argument('--lr', type=float, default= 0.0001, help='learning rate')\n",
    "parser.add_argument('--train_dir', type=str, default='./data/train',help='path of train data')\n",
    "parser.add_argument('--test_dir', type=str, default='./data/test',help='path of test data')\n",
    "parser.add_argument('--checkpoints_dir',type=str,default='./checkpoints',help='path of saved model')\n",
    "parser.add_argument('--load',type=bool,default=True,help='load the pretrained model')\n",
    "args = parser.parse_args(args=[])\n",
    "\n",
    "RCBAM_model = RCBAM.ResNet8_RCBAM()\n",
    "ResNet_model = ResNet.ResNet_8()\n",
    "ConvNext_V2_model = ConvNext_V2.ConvNext_T()\n",
    "model = [RCBAM_model, ResNet_model, ConvNext_V2_model]\n",
    "acc_max_RCBAM, acc_max_ResNet, acc_max_ConvNext_V2=train_model(args,model)\n",
    "model = [acc_max_RCBAM, acc_max_ResNet, acc_max_ConvNext_V2]\n",
    "infer(args,model)"
   ]
  }
 ],
 "metadata": {
  "kernelspec": {
   "display_name": "bacteria",
   "language": "python",
   "name": "python3"
  },
  "language_info": {
   "codemirror_mode": {
    "name": "ipython",
    "version": 3
   },
   "file_extension": ".py",
   "mimetype": "text/x-python",
   "name": "python",
   "nbconvert_exporter": "python",
   "pygments_lexer": "ipython3",
   "version": "3.7.13"
  }
 },
 "nbformat": 4,
 "nbformat_minor": 2
}
